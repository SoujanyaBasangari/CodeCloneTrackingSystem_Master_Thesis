{
 "cells": [
  {
   "cell_type": "code",
   "execution_count": null,
   "id": "c93e74f9",
   "metadata": {},
   "outputs": [],
   "source": [
    "\n",
    "import pandas as pd\n",
    "\n",
    "df = pd.read_csv('/Users/vivekgoud/Downloads/thesis/method_leveltracking.csv')\n",
    "df=df.drop_duplicates(subset=['codeBlockId','Revision','codeCloneBlockId'],keep='last')\n",
    "df[\"unique\"] =  \"R1\"+df[\"Revision\"].astype(str)+df[\"codeBlockId\"] \n",
    "df['codeblock_Code'] = df['codeblock_Code'].astype(str)\n",
    "df = df.reset_index(drop=True)\n",
    "df"
   ]
  },
  {
   "cell_type": "code",
   "execution_count": null,
   "id": "f8d4f06c",
   "metadata": {},
   "outputs": [],
   "source": [
    "import chars2vec\n",
    "\n",
    "c2v_model = chars2vec.load_model('eng_100')"
   ]
  },
  {
   "cell_type": "code",
   "execution_count": 1,
   "id": "d6d75ee4",
   "metadata": {},
   "outputs": [
    {
     "name": "stdout",
     "output_type": "stream",
     "text": [
      "Found existing installation: tensorflow 2.9.2\n",
      "Uninstalling tensorflow-2.9.2:\n",
      "  Would remove:\n",
      "    /Users/vivekgoud/opt/anaconda3/bin/estimator_ckpt_converter\n",
      "    /Users/vivekgoud/opt/anaconda3/bin/import_pb_to_tensorboard\n",
      "    /Users/vivekgoud/opt/anaconda3/bin/saved_model_cli\n",
      "    /Users/vivekgoud/opt/anaconda3/bin/tensorboard\n",
      "    /Users/vivekgoud/opt/anaconda3/bin/tf_upgrade_v2\n",
      "    /Users/vivekgoud/opt/anaconda3/bin/tflite_convert\n",
      "    /Users/vivekgoud/opt/anaconda3/bin/toco\n",
      "    /Users/vivekgoud/opt/anaconda3/bin/toco_from_protos\n",
      "    /Users/vivekgoud/opt/anaconda3/lib/python3.9/site-packages/tensorflow-2.9.2.dist-info/*\n",
      "    /Users/vivekgoud/opt/anaconda3/lib/python3.9/site-packages/tensorflow/*\n",
      "Proceed (Y/n)? ^C\n",
      "\u001b[31mERROR: Operation cancelled by user\u001b[0m\u001b[31m\n",
      "\u001b[0mNote: you may need to restart the kernel to use updated packages.\n"
     ]
    }
   ],
   "source": [
    "pip uninstall tensorflow"
   ]
  },
  {
   "cell_type": "code",
   "execution_count": 2,
   "id": "79ba741b",
   "metadata": {},
   "outputs": [
    {
     "ename": "NameError",
     "evalue": "name 'Y' is not defined",
     "output_type": "error",
     "traceback": [
      "\u001b[0;31m---------------------------------------------------------------------------\u001b[0m",
      "\u001b[0;31mNameError\u001b[0m                                 Traceback (most recent call last)",
      "Input \u001b[0;32mIn [2]\u001b[0m, in \u001b[0;36m<cell line: 1>\u001b[0;34m()\u001b[0m\n\u001b[0;32m----> 1\u001b[0m \u001b[43mY\u001b[49m\n",
      "\u001b[0;31mNameError\u001b[0m: name 'Y' is not defined"
     ]
    }
   ],
   "source": [
    "Y"
   ]
  },
  {
   "cell_type": "code",
   "execution_count": null,
   "id": "f58a4070",
   "metadata": {},
   "outputs": [],
   "source": []
  }
 ],
 "metadata": {
  "kernelspec": {
   "display_name": "Python 3 (ipykernel)",
   "language": "python",
   "name": "python3"
  },
  "language_info": {
   "codemirror_mode": {
    "name": "ipython",
    "version": 3
   },
   "file_extension": ".py",
   "mimetype": "text/x-python",
   "name": "python",
   "nbconvert_exporter": "python",
   "pygments_lexer": "ipython3",
   "version": "3.9.12"
  }
 },
 "nbformat": 4,
 "nbformat_minor": 5
}
