{
 "cells": [
  {
   "cell_type": "code",
   "execution_count": null,
   "id": "ca3ffc5a",
   "metadata": {},
   "outputs": [],
   "source": [
    "#import GetFiles\n",
    "import src.CodeCloneTracer.data_extraction\n",
    "import src.CodeCloneTracer.CloneDetector\n",
    "\n",
    "import src.CodeCloneTracer.cloneTracking\n",
    "#import ml\n",
    "# save char2vec with diff name and load clustering model pickle file\n",
    "# allFilesData is list which have all files with specific extension\n",
    "print(\"Getting all file info from folder\")\n",
    "dirPath = \"/Users/vivekgoud/Documents/GitHub/Test_project_Codeclonetracer/onlinebookstore-J2EE/\"\n",
    "allFilesData= data_extraction.getAllFilesUsingFolderPath(dirPath)\n",
    "\n",
    "print(\"Extracting methods from files\",len(allFilesData),\"total_files\")\n",
    "\n",
    "current_dataset,linesofcode,codeclonelines= data_extraction.extractMethodsAllFiles(allFilesData)\n",
    "print(\"load transformed dataset to ML model\")\n",
    "\n",
    "total_files=len(allFilesData)\n",
    "\n",
    "ml_dataset = cloneTracking.clonetracingModel(current_dataset)\n",
    "\n",
    "cloning_percentage = (codeclonelines/linesofcode)*100\n",
    "\n",
    "tracking_result = cloneTracking.analysis_creating_report(ml_dataset,total_files,cloning_percentage)\n",
    "\n",
    "print(\"check tracking.txt for latest report\")\n",
    "\n",
    "#print(linesofcode,\"total lines\",codeclonelines,\"total cloned lines\", (codeclonelines/linesofcode)*100 , \"cloning_percentage\")\n",
    "\n",
    "# CloneSave.writeToFile(codeBlocks)\n",
    "#CloneSave.writeToCSV(codeBlocks)\n",
    "\n",
    "\n",
    "#pip install python-Levenshtein\n",
    "\n",
    "#pip install pydriller\n",
    "#pip install fuzzywuzzy\n",
    "#pip install pandas\n",
    "#pip install javalang\n",
    "\n",
    "#pip install virtualenv\n",
    "\n",
    "# virtualenv ENV\n",
    "\n",
    "# source ENV/bin/activate"
   ]
  }
 ],
 "metadata": {
  "kernelspec": {
   "display_name": "Python 3 (ipykernel)",
   "language": "python",
   "name": "python3"
  },
  "language_info": {
   "codemirror_mode": {
    "name": "ipython",
    "version": 3
   },
   "file_extension": ".py",
   "mimetype": "text/x-python",
   "name": "python",
   "nbconvert_exporter": "python",
   "pygments_lexer": "ipython3",
   "version": "3.9.12"
  }
 },
 "nbformat": 4,
 "nbformat_minor": 5
}
