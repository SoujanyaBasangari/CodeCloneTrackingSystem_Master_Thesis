{
 "cells": [
  {
   "cell_type": "code",
   "execution_count": null,
   "id": "fbf3e716",
   "metadata": {},
   "outputs": [],
   "source": [
    "\n",
    "import pandas as pd\n",
    "\n",
    "df = pd.read_csv('/Users/vivekgoud/Downloads/thesis/method_leveltracking.csv')\n",
    "df=df.drop_duplicates(subset=['codeBlockId','Revision','codeCloneBlockId'],keep='last')\n",
    "df[\"unique\"] =  \"R1\"+df[\"Revision\"].astype(str)+df[\"codeBlockId\"] \n",
    "df['codeblock_Code'] = df['codeblock_Code'].astype(str)\n",
    "df = df.reset_index(drop=True)\n",
    "df"
   ]
  },
  {
   "cell_type": "code",
   "execution_count": null,
   "id": "1005012d",
   "metadata": {},
   "outputs": [],
   "source": [
    "import chars2vec\n",
    "\n",
    "c2v_model = chars2vec.load_model('eng_100')"
   ]
  },
  {
   "cell_type": "code",
   "execution_count": null,
   "id": "c05f11a6",
   "metadata": {},
   "outputs": [],
   "source": [
    "pip install tensorflow"
   ]
  },
  {
   "cell_type": "code",
   "execution_count": null,
   "id": "38108542",
   "metadata": {},
   "outputs": [],
   "source": [
    "Y"
   ]
  },
  {
   "cell_type": "code",
   "execution_count": null,
   "id": "e7431cb7",
   "metadata": {},
   "outputs": [],
   "source": []
  }
 ],
 "metadata": {
  "kernelspec": {
   "display_name": "Python 3 (ipykernel)",
   "language": "python",
   "name": "python3"
  },
  "language_info": {
   "codemirror_mode": {
    "name": "ipython",
    "version": 3
   },
   "file_extension": ".py",
   "mimetype": "text/x-python",
   "name": "python",
   "nbconvert_exporter": "python",
   "pygments_lexer": "ipython3",
   "version": "3.9.12"
  }
 },
 "nbformat": 4,
 "nbformat_minor": 5
}
